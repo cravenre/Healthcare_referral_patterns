{
 "cells": [
  {
   "cell_type": "code",
   "execution_count": 164,
   "metadata": {},
   "outputs": [],
   "source": [
    "import pandas as pd\n",
    "import re"
   ]
  },
  {
   "cell_type": "markdown",
   "metadata": {},
   "source": [
    "# Cleaning the NPI data to only contain NPI code and Taxonomy code"
   ]
  },
  {
   "cell_type": "code",
   "execution_count": 3,
   "metadata": {},
   "outputs": [
    {
     "name": "stderr",
     "output_type": "stream",
     "text": [
      "//anaconda3/lib/python3.7/site-packages/IPython/core/interactiveshell.py:3057: DtypeWarning: Columns (67,70,71,74,75,78,79,82,83,86,87,90,91,94,95,98,99,102,103,106) have mixed types. Specify dtype option on import or set low_memory=False.\n",
      "  interactivity=interactivity, compiler=compiler, result=result)\n"
     ]
    }
   ],
   "source": [
    "npi_data = pd.read_csv('data/NPPES_Data_Dissemination_February_2020/npidata_pfile_20050523-20200209.csv',\n",
    "                      usecols=['NPI',\n",
    "                               'Healthcare Provider Primary Taxonomy Switch_1','Healthcare Provider Primary Taxonomy Switch_2',\n",
    "                              'Healthcare Provider Primary Taxonomy Switch_3','Healthcare Provider Primary Taxonomy Switch_4',\n",
    "                              'Healthcare Provider Primary Taxonomy Switch_5','Healthcare Provider Primary Taxonomy Switch_6',\n",
    "                              'Healthcare Provider Primary Taxonomy Switch_7','Healthcare Provider Primary Taxonomy Switch_8',\n",
    "                              'Healthcare Provider Primary Taxonomy Switch_9','Healthcare Provider Primary Taxonomy Switch_10',\n",
    "                              'Healthcare Provider Primary Taxonomy Switch_11','Healthcare Provider Primary Taxonomy Switch_12',\n",
    "                              'Healthcare Provider Primary Taxonomy Switch_13','Healthcare Provider Primary Taxonomy Switch_14',\n",
    "                              'Healthcare Provider Primary Taxonomy Switch_15','Healthcare Provider Taxonomy Code_1',\n",
    "                              'Healthcare Provider Taxonomy Code_2','Healthcare Provider Taxonomy Code_3',\n",
    "                              'Healthcare Provider Taxonomy Code_4','Healthcare Provider Taxonomy Code_5',\n",
    "                              'Healthcare Provider Taxonomy Code_6','Healthcare Provider Taxonomy Code_7',\n",
    "                              'Healthcare Provider Taxonomy Code_8','Healthcare Provider Taxonomy Code_9',\n",
    "                              'Healthcare Provider Taxonomy Code_10','Healthcare Provider Taxonomy Code_11',\n",
    "                              'Healthcare Provider Taxonomy Code_12','Healthcare Provider Taxonomy Code_13',\n",
    "                              'Healthcare Provider Taxonomy Code_14','Healthcare Provider Taxonomy Code_15'])"
   ]
  },
  {
   "cell_type": "code",
   "execution_count": 5,
   "metadata": {},
   "outputs": [],
   "source": [
    "# Trying to define a function to return the Primary Taxonomy Code\n",
    "def tax_code(data):\n",
    "    if data['Healthcare Provider Primary Taxonomy Switch_1'] == 'Y':\n",
    "        return data['Healthcare Provider Taxonomy Code_1']\n",
    "    elif data['Healthcare Provider Primary Taxonomy Switch_2'] == 'Y':\n",
    "        return data['Healthcare Provider Taxonomy Code_2']\n",
    "    elif data['Healthcare Provider Primary Taxonomy Switch_3'] == 'Y':\n",
    "        return data['Healthcare Provider Taxonomy Code_3']\n",
    "    elif data['Healthcare Provider Primary Taxonomy Switch_4'] == 'Y':\n",
    "        return data['Healthcare Provider Taxonomy Code_4']\n",
    "    elif data['Healthcare Provider Primary Taxonomy Switch_5'] == 'Y':\n",
    "        return data['Healthcare Provider Taxonomy Code_5']\n",
    "    elif data['Healthcare Provider Primary Taxonomy Switch_6'] == 'Y':\n",
    "        return data['Healthcare Provider Taxonomy Code_6']\n",
    "    elif data['Healthcare Provider Primary Taxonomy Switch_7'] == 'Y':\n",
    "        return data['Healthcare Provider Taxonomy Code_7']\n",
    "    elif data['Healthcare Provider Primary Taxonomy Switch_8'] == 'Y':\n",
    "        return data['Healthcare Provider Taxonomy Code_8']\n",
    "    elif data['Healthcare Provider Primary Taxonomy Switch_9'] == 'Y':\n",
    "        return data['Healthcare Provider Taxonomy Code_9']\n",
    "    elif data['Healthcare Provider Primary Taxonomy Switch_10'] == 'Y':\n",
    "        return data['Healthcare Provider Taxonomy Code_10']\n",
    "    elif data['Healthcare Provider Primary Taxonomy Switch_11'] == 'Y':\n",
    "        return data['Healthcare Provider Taxonomy Code_11']\n",
    "    elif data['Healthcare Provider Primary Taxonomy Switch_12'] == 'Y':\n",
    "        return data['Healthcare Provider Taxonomy Code_12']\n",
    "    elif data['Healthcare Provider Primary Taxonomy Switch_13'] == 'Y':\n",
    "        return data['Healthcare Provider Taxonomy Code_13']\n",
    "    elif data['Healthcare Provider Primary Taxonomy Switch_14'] == 'Y':\n",
    "        return data['Healthcare Provider Taxonomy Code_14']\n",
    "    elif data['Healthcare Provider Primary Taxonomy Switch_15'] == 'Y':\n",
    "        return data['Healthcare Provider Taxonomy Code_15']\n",
    "    else:\n",
    "        return 'none'"
   ]
  },
  {
   "cell_type": "code",
   "execution_count": 6,
   "metadata": {},
   "outputs": [],
   "source": [
    "# Running the function to determine the primary taxonomy code for each npi\n",
    "npi_data['taxonomy_code'] = npi_data.apply(tax_code, axis=1)"
   ]
  },
  {
   "cell_type": "code",
   "execution_count": 8,
   "metadata": {},
   "outputs": [],
   "source": [
    "# Selecting only the NPI and taxonomy codes\n",
    "npi_data = npi_data.iloc[:,[0,31]]"
   ]
  },
  {
   "cell_type": "code",
   "execution_count": 11,
   "metadata": {},
   "outputs": [],
   "source": [
    "# Exporting the NPI/taxonomy code cleaned data for further use\n",
    "npi_data.to_csv('data/npi_taxonomy_clean.csv', index=False)"
   ]
  },
  {
   "cell_type": "markdown",
   "metadata": {},
   "source": [
    "# Cleaning the NPI data to contain only NPI code and entity type code"
   ]
  },
  {
   "cell_type": "code",
   "execution_count": 15,
   "metadata": {},
   "outputs": [],
   "source": [
    "npi_data = pd.read_csv('data/NPPES_Data_Dissemination_February_2020/npidata_pfile_20050523-20200209.csv',\n",
    "                      usecols=['NPI','Entity Type Code'])"
   ]
  },
  {
   "cell_type": "code",
   "execution_count": 18,
   "metadata": {},
   "outputs": [],
   "source": [
    "# Exporting the cleaned NPI/entity code data for further use\n",
    "npi_data.to_csv('data/npi_entitycode_clean.csv', index=False)"
   ]
  },
  {
   "cell_type": "code",
   "execution_count": 19,
   "metadata": {
    "scrolled": true
   },
   "outputs": [
    {
     "data": {
      "text/html": [
       "<div>\n",
       "<style scoped>\n",
       "    .dataframe tbody tr th:only-of-type {\n",
       "        vertical-align: middle;\n",
       "    }\n",
       "\n",
       "    .dataframe tbody tr th {\n",
       "        vertical-align: top;\n",
       "    }\n",
       "\n",
       "    .dataframe thead th {\n",
       "        text-align: right;\n",
       "    }\n",
       "</style>\n",
       "<table border=\"1\" class=\"dataframe\">\n",
       "  <thead>\n",
       "    <tr style=\"text-align: right;\">\n",
       "      <th></th>\n",
       "      <th>NPI</th>\n",
       "      <th>Entity Type Code</th>\n",
       "    </tr>\n",
       "  </thead>\n",
       "  <tbody>\n",
       "    <tr>\n",
       "      <th>0</th>\n",
       "      <td>1679576722</td>\n",
       "      <td>1.0</td>\n",
       "    </tr>\n",
       "    <tr>\n",
       "      <th>1</th>\n",
       "      <td>1588667638</td>\n",
       "      <td>1.0</td>\n",
       "    </tr>\n",
       "    <tr>\n",
       "      <th>2</th>\n",
       "      <td>1497758544</td>\n",
       "      <td>2.0</td>\n",
       "    </tr>\n",
       "    <tr>\n",
       "      <th>3</th>\n",
       "      <td>1306849450</td>\n",
       "      <td>1.0</td>\n",
       "    </tr>\n",
       "    <tr>\n",
       "      <th>4</th>\n",
       "      <td>1215930367</td>\n",
       "      <td>1.0</td>\n",
       "    </tr>\n",
       "  </tbody>\n",
       "</table>\n",
       "</div>"
      ],
      "text/plain": [
       "          NPI  Entity Type Code\n",
       "0  1679576722               1.0\n",
       "1  1588667638               1.0\n",
       "2  1497758544               2.0\n",
       "3  1306849450               1.0\n",
       "4  1215930367               1.0"
      ]
     },
     "execution_count": 19,
     "metadata": {},
     "output_type": "execute_result"
    }
   ],
   "source": [
    "npi_data.head()"
   ]
  },
  {
   "cell_type": "markdown",
   "metadata": {},
   "source": [
    "# Cleaning the Taxonomy Codes and Descriptions"
   ]
  },
  {
   "cell_type": "code",
   "execution_count": 119,
   "metadata": {},
   "outputs": [],
   "source": [
    "taxonomy = pd.read_csv('data/CROSSWALK_MEDICARE_PROVIDER_SUPPLIER_to_HEALTHCARE_PROVIDER_TAXONOMY.csv', nrows=507)"
   ]
  },
  {
   "cell_type": "code",
   "execution_count": 120,
   "metadata": {},
   "outputs": [],
   "source": [
    "# Removing all taxonomy codes that are not \"Allopathic and Osteopathic Physicians\"\n",
    "taxonomy = taxonomy[taxonomy['PROVIDER TAXONOMY DESCRIPTION'].str.contains('Allopathic & Osteopathic Physicians', na=False)]"
   ]
  },
  {
   "cell_type": "code",
   "execution_count": 121,
   "metadata": {},
   "outputs": [],
   "source": [
    "# Creating a function to split out the specialty from the taxonomy description\n",
    "def specialty_split(tax_desc):\n",
    "    if 'Internal Medicine' in tax_desc.split('/')[1]:\n",
    "        if ',' not in tax_desc:\n",
    "            return tax_desc.split('/')[1]\n",
    "        return tax_desc.split(', ')[1]\n",
    "    elif tax_desc.split('/')[0] == 'Allopathic & Osteopathic Physicians':\n",
    "        return tax_desc.split('/')[1]\n",
    "    else:\n",
    "        return tax_desc.split('/')[0]"
   ]
  },
  {
   "cell_type": "code",
   "execution_count": 125,
   "metadata": {},
   "outputs": [],
   "source": [
    "# Apply the function to the dataframe\n",
    "taxonomy['specialty'] = taxonomy['PROVIDER TAXONOMY DESCRIPTION'].apply(specialty_split)\n",
    "\n",
    "# Filter down to just the columns of interest (taxonomy code and specialty)\n",
    "taxonomy = taxonomy[['PROVIDER TAXONOMY CODE','specialty']]"
   ]
  },
  {
   "cell_type": "code",
   "execution_count": 127,
   "metadata": {
    "scrolled": true
   },
   "outputs": [
    {
     "name": "stdout",
     "output_type": "stream",
     "text": [
      "<class 'pandas.core.frame.DataFrame'>\n",
      "Int64Index: 265 entries, 0 to 505\n",
      "Data columns (total 2 columns):\n",
      "PROVIDER TAXONOMY CODE    265 non-null object\n",
      "specialty                 265 non-null object\n",
      "dtypes: object(2)\n",
      "memory usage: 6.2+ KB\n"
     ]
    }
   ],
   "source": [
    "taxonomy.info()"
   ]
  },
  {
   "cell_type": "code",
   "execution_count": 129,
   "metadata": {},
   "outputs": [],
   "source": [
    "# Save the cleaned Taxonomy code data to csv\n",
    "taxonomy.to_csv('data/taxonomy_code_specialty_clean.csv', index=False)"
   ]
  },
  {
   "cell_type": "markdown",
   "metadata": {},
   "source": [
    "# Merging the NPI and Taxonomy code description on taxonomy code"
   ]
  },
  {
   "cell_type": "code",
   "execution_count": 45,
   "metadata": {},
   "outputs": [],
   "source": [
    "# Pull in NPI and taxonomy code data\n",
    "npi_taxonomy = pd.read_csv('data/npi_taxonomy_clean.csv')"
   ]
  },
  {
   "cell_type": "code",
   "execution_count": 46,
   "metadata": {},
   "outputs": [],
   "source": [
    "# Pull in the taxonomy code and taxonomy description data\n",
    "taxonomy_desc = pd.read_csv('data/taxonomy_code_specialty_clean.csv')"
   ]
  },
  {
   "cell_type": "code",
   "execution_count": 47,
   "metadata": {},
   "outputs": [],
   "source": [
    "# Merge the NPI and taxonomy description on the taxonomy code. Inner merge to only get codes for allo/osteopathic npi's\n",
    "npi_taxonomy = npi_taxonomy.merge(taxonomy_desc, left_on='taxonomy_code', right_on='PROVIDER TAXONOMY CODE')"
   ]
  },
  {
   "cell_type": "code",
   "execution_count": 48,
   "metadata": {},
   "outputs": [
    {
     "data": {
      "text/html": [
       "<div>\n",
       "<style scoped>\n",
       "    .dataframe tbody tr th:only-of-type {\n",
       "        vertical-align: middle;\n",
       "    }\n",
       "\n",
       "    .dataframe tbody tr th {\n",
       "        vertical-align: top;\n",
       "    }\n",
       "\n",
       "    .dataframe thead th {\n",
       "        text-align: right;\n",
       "    }\n",
       "</style>\n",
       "<table border=\"1\" class=\"dataframe\">\n",
       "  <thead>\n",
       "    <tr style=\"text-align: right;\">\n",
       "      <th></th>\n",
       "      <th>NPI</th>\n",
       "      <th>taxonomy_code</th>\n",
       "      <th>PROVIDER TAXONOMY CODE</th>\n",
       "      <th>specialty</th>\n",
       "    </tr>\n",
       "  </thead>\n",
       "  <tbody>\n",
       "    <tr>\n",
       "      <th>0</th>\n",
       "      <td>1679576722</td>\n",
       "      <td>207X00000X</td>\n",
       "      <td>207X00000X</td>\n",
       "      <td>Orthopedic Surgery</td>\n",
       "    </tr>\n",
       "    <tr>\n",
       "      <th>1</th>\n",
       "      <td>1679576722</td>\n",
       "      <td>207X00000X</td>\n",
       "      <td>207X00000X</td>\n",
       "      <td>Orthopedic Surgery</td>\n",
       "    </tr>\n",
       "    <tr>\n",
       "      <th>2</th>\n",
       "      <td>1205839354</td>\n",
       "      <td>207X00000X</td>\n",
       "      <td>207X00000X</td>\n",
       "      <td>Orthopedic Surgery</td>\n",
       "    </tr>\n",
       "    <tr>\n",
       "      <th>3</th>\n",
       "      <td>1205839354</td>\n",
       "      <td>207X00000X</td>\n",
       "      <td>207X00000X</td>\n",
       "      <td>Orthopedic Surgery</td>\n",
       "    </tr>\n",
       "    <tr>\n",
       "      <th>4</th>\n",
       "      <td>1578566527</td>\n",
       "      <td>207X00000X</td>\n",
       "      <td>207X00000X</td>\n",
       "      <td>Orthopedic Surgery</td>\n",
       "    </tr>\n",
       "  </tbody>\n",
       "</table>\n",
       "</div>"
      ],
      "text/plain": [
       "          NPI taxonomy_code PROVIDER TAXONOMY CODE           specialty\n",
       "0  1679576722    207X00000X             207X00000X  Orthopedic Surgery\n",
       "1  1679576722    207X00000X             207X00000X  Orthopedic Surgery\n",
       "2  1205839354    207X00000X             207X00000X  Orthopedic Surgery\n",
       "3  1205839354    207X00000X             207X00000X  Orthopedic Surgery\n",
       "4  1578566527    207X00000X             207X00000X  Orthopedic Surgery"
      ]
     },
     "execution_count": 48,
     "metadata": {},
     "output_type": "execute_result"
    }
   ],
   "source": [
    "npi_taxonomy.head()"
   ]
  },
  {
   "cell_type": "code",
   "execution_count": 49,
   "metadata": {},
   "outputs": [],
   "source": [
    "npi_taxonomy = npi_taxonomy[['NPI', 'specialty']]"
   ]
  },
  {
   "cell_type": "code",
   "execution_count": 50,
   "metadata": {},
   "outputs": [],
   "source": [
    "npi_taxonomy.to_csv('data/npi_taxonomy_description.csv', index=False)"
   ]
  },
  {
   "cell_type": "markdown",
   "metadata": {},
   "source": [
    "# Merging the NPI and specialty (taxonomy description) using the cleaned HOP_teaming data"
   ]
  },
  {
   "cell_type": "code",
   "execution_count": 269,
   "metadata": {},
   "outputs": [],
   "source": [
    "# Import the NPI and taxonomy description data\n",
    "npi_taxonomy = pd.read_csv('data/npi_taxonomy_description.csv')"
   ]
  },
  {
   "cell_type": "code",
   "execution_count": 270,
   "metadata": {},
   "outputs": [],
   "source": [
    "# Import the cleaned and filtered hop_teaming data\n",
    "hop_npi = pd.read_pickle('data/hop_npi.csv')"
   ]
  },
  {
   "cell_type": "code",
   "execution_count": 271,
   "metadata": {},
   "outputs": [
    {
     "data": {
      "text/html": [
       "<div>\n",
       "<style scoped>\n",
       "    .dataframe tbody tr th:only-of-type {\n",
       "        vertical-align: middle;\n",
       "    }\n",
       "\n",
       "    .dataframe tbody tr th {\n",
       "        vertical-align: top;\n",
       "    }\n",
       "\n",
       "    .dataframe thead th {\n",
       "        text-align: right;\n",
       "    }\n",
       "</style>\n",
       "<table border=\"1\" class=\"dataframe\">\n",
       "  <thead>\n",
       "    <tr style=\"text-align: right;\">\n",
       "      <th></th>\n",
       "      <th>from_npi</th>\n",
       "      <th>to_npi</th>\n",
       "      <th>patient_count</th>\n",
       "      <th>transaction_count</th>\n",
       "      <th>average_day_wait</th>\n",
       "    </tr>\n",
       "  </thead>\n",
       "  <tbody>\n",
       "    <tr>\n",
       "      <th>4</th>\n",
       "      <td>1033194220</td>\n",
       "      <td>1003000308</td>\n",
       "      <td>62</td>\n",
       "      <td>80</td>\n",
       "      <td>26.175</td>\n",
       "    </tr>\n",
       "    <tr>\n",
       "      <th>5</th>\n",
       "      <td>1003818055</td>\n",
       "      <td>1003000563</td>\n",
       "      <td>101</td>\n",
       "      <td>146</td>\n",
       "      <td>0.000</td>\n",
       "    </tr>\n",
       "    <tr>\n",
       "      <th>13</th>\n",
       "      <td>1013967371</td>\n",
       "      <td>1003001538</td>\n",
       "      <td>46</td>\n",
       "      <td>61</td>\n",
       "      <td>21.033</td>\n",
       "    </tr>\n",
       "    <tr>\n",
       "      <th>14</th>\n",
       "      <td>1023073459</td>\n",
       "      <td>1003001553</td>\n",
       "      <td>25</td>\n",
       "      <td>51</td>\n",
       "      <td>34.314</td>\n",
       "    </tr>\n",
       "    <tr>\n",
       "      <th>15</th>\n",
       "      <td>1023003142</td>\n",
       "      <td>1003001553</td>\n",
       "      <td>164</td>\n",
       "      <td>222</td>\n",
       "      <td>33.923</td>\n",
       "    </tr>\n",
       "  </tbody>\n",
       "</table>\n",
       "</div>"
      ],
      "text/plain": [
       "      from_npi      to_npi  patient_count  transaction_count  average_day_wait\n",
       "4   1033194220  1003000308             62                 80            26.175\n",
       "5   1003818055  1003000563            101                146             0.000\n",
       "13  1013967371  1003001538             46                 61            21.033\n",
       "14  1023073459  1003001553             25                 51            34.314\n",
       "15  1023003142  1003001553            164                222            33.923"
      ]
     },
     "execution_count": 271,
     "metadata": {},
     "output_type": "execute_result"
    }
   ],
   "source": [
    "hop_npi.head()"
   ]
  },
  {
   "cell_type": "code",
   "execution_count": 272,
   "metadata": {},
   "outputs": [],
   "source": [
    "# Merge the taxonomy description to the from_npi provider based on the npi_code\n",
    "hop_npi = hop_npi.merge(npi_taxonomy, left_on='from_npi', right_on='NPI')\n",
    "# Drop the unneeded column that was joined on\n",
    "hop_npi = hop_npi.drop(columns='NPI')\n",
    "# Rename the specialty/taxonomy description column to show it is the \"from\" provider\n",
    "hop_npi = hop_npi.rename(columns={'specialty':'from_specialty'})"
   ]
  },
  {
   "cell_type": "code",
   "execution_count": 274,
   "metadata": {},
   "outputs": [],
   "source": [
    "# Export the new data as a csv\n",
    "hop_npi.to_csv('data/hop_npi_taxonomy_clean.csv', index = False)"
   ]
  },
  {
   "cell_type": "markdown",
   "metadata": {},
   "source": [
    "# Merging the NPI and Zip code to the CBSA Region"
   ]
  },
  {
   "cell_type": "code",
   "execution_count": 341,
   "metadata": {},
   "outputs": [],
   "source": [
    "# Import the data containing the NPI code and postal code (which contains the 5 digit zip code)\n",
    "npi_data = pd.read_csv('data/NPPES_Data_Dissemination_February_2020/npidata_pfile_20050523-20200209.csv',\n",
    "                      usecols=['NPI','Provider Business Practice Location Address Postal Code'])\n",
    "\n",
    "npi_data = npi_data.rename(columns={'Provider Business Practice Location Address Postal Code':'zip_code'})"
   ]
  },
  {
   "cell_type": "code",
   "execution_count": 342,
   "metadata": {},
   "outputs": [],
   "source": [
    "# Cleaning up the zip code column to remove all junk for stripping out the 5 digit zip code\n",
    "npi_data = npi_data.dropna()\n",
    "npi_data['zip_code'] = npi_data['zip_code'].astype(str)\n",
    "npi_data['zip_code'] = npi_data['zip_code'].str.replace(' ','')\n",
    "npi_data['zip_code'] = npi_data['zip_code'].str.replace('-','')\n",
    "# Remove all the alphabet characters from the zip code column\n",
    "npi_data['zip_code'] = npi_data['zip_code'].apply(lambda x: re.sub(r'[a-zA-Z]','', x))\n",
    "# Remove trailing \".0\" that is found on majority of entries\n",
    "npi_data['zip_code'] = npi_data['zip_code'].str.replace('\\.0','')"
   ]
  },
  {
   "cell_type": "code",
   "execution_count": 343,
   "metadata": {},
   "outputs": [],
   "source": [
    "# This function takes the input (zip code column) and determines how many initial 0's were removed on importing and\n",
    "# then determining how many numbers to extract to receive the proper 5 digit zip code. Also identify junk values.\n",
    "def zip_finder(zippies):\n",
    "    if len(zippies)==9:\n",
    "        return zippies[:5]\n",
    "    if len(zippies)==8:\n",
    "        return '0'+zippies[:4]\n",
    "    if len(zippies)==7:\n",
    "        return '00'+zippies[:3]\n",
    "    if len(zippies)==5:\n",
    "        return zippies\n",
    "    if len(zippies)==4:\n",
    "        return '0'+zippies\n",
    "    if len(zippies)==3:\n",
    "        return '00'+zippies\n",
    "    else:\n",
    "        return 'no real zip'"
   ]
  },
  {
   "cell_type": "code",
   "execution_count": 344,
   "metadata": {
    "scrolled": false
   },
   "outputs": [],
   "source": [
    "# Perform the zip code cleaning function (zip_finder) and drop all values that are junk ('no real zip')\n",
    "npi_data['real_zip_code'] = npi_data.zip_code.apply(zip_finder)\n",
    "npi_data = npi_data[npi_data.real_zip_code!='no real zip']"
   ]
  },
  {
   "cell_type": "code",
   "execution_count": 345,
   "metadata": {},
   "outputs": [],
   "source": [
    "# Remove the extra column to keep only the needed two, NPI code and zip code\n",
    "npi_data = npi_data[['NPI','real_zip_code']]"
   ]
  },
  {
   "cell_type": "code",
   "execution_count": 346,
   "metadata": {},
   "outputs": [],
   "source": [
    "# Import the data that contains the CBSA region codes and 5 digit zip code\n",
    "cbsa_zips = pd.read_excel('data/ZIP_CBSA_122019.xlsx', usecols = ['ZIP', 'CBSA', 'TOT_RATIO'], dtype={'ZIP':object})"
   ]
  },
  {
   "cell_type": "code",
   "execution_count": 347,
   "metadata": {},
   "outputs": [],
   "source": [
    "# Because some Zip codes fall into several CBSA regions, want to remove duplicates and keep the regions that cover\n",
    "# the majority of the zip code.\n",
    "cbsa_zips = cbsa_zips.sort_values(['ZIP', 'TOT_RATIO'], ascending = [False, False])\n",
    "\n",
    "cbsa_zips = cbsa_zips.drop_duplicates(subset='ZIP', keep='first')\n",
    "\n",
    "cbsa_zips = cbsa_zips.drop(columns = 'TOT_RATIO')"
   ]
  },
  {
   "cell_type": "code",
   "execution_count": 348,
   "metadata": {},
   "outputs": [],
   "source": [
    "# Merge the data containing the NPI code and CBSA region code based upon the zip code values\n",
    "npi_data = npi_data.merge(cbsa_zips, left_on='real_zip_code', right_on='ZIP', how='left')\n",
    "\n",
    "npi_data = npi_data[['NPI','CBSA']]"
   ]
  },
  {
   "cell_type": "code",
   "execution_count": 349,
   "metadata": {},
   "outputs": [],
   "source": [
    "# Export the cleaned data containing NPI code and CBSA region code as a csv file\n",
    "npi_data.to_csv('data/npi_cbsa_clean.csv', index = False)"
   ]
  },
  {
   "cell_type": "markdown",
   "metadata": {},
   "source": [
    "# Importing the Provider Organization name and NPI"
   ]
  },
  {
   "cell_type": "code",
   "execution_count": 283,
   "metadata": {},
   "outputs": [],
   "source": [
    "npi_data = pd.read_csv('data/NPPES_Data_Dissemination_February_2020/npidata_pfile_20050523-20200209.csv',\n",
    "                      usecols=['NPI','Provider Other Organization Name'])\n",
    "\n",
    "npi_data = npi_data.rename(columns={'Provider Other Organization Name':'to_organization'})"
   ]
  },
  {
   "cell_type": "code",
   "execution_count": 285,
   "metadata": {},
   "outputs": [],
   "source": [
    "# Export the data containing NPI code and provider organization name for entity type 2 as a csv file\n",
    "npi_data.to_csv('data/entity2_org_name.csv', index = False)"
   ]
  },
  {
   "cell_type": "markdown",
   "metadata": {},
   "source": [
    "# Merging the CBSA region code, organization/provider name, and provider state to the full cleaned NPI hop data"
   ]
  },
  {
   "cell_type": "code",
   "execution_count": 403,
   "metadata": {},
   "outputs": [],
   "source": [
    "# Importing the hop npi data, cbsa region, and provider organizatin name data for merging together\n",
    "npi_data = pd.read_csv('data/hop_npi_taxonomy_clean.csv')\n",
    "cbsa_regions = pd.read_csv('data/npi_cbsa_clean.csv')\n",
    "provider_to_name = pd.read_csv('data/entity2_org_name.csv')"
   ]
  },
  {
   "cell_type": "code",
   "execution_count": 404,
   "metadata": {},
   "outputs": [],
   "source": [
    "# Merge all 3 data sets together into a single dataframe\n",
    "npi_data = npi_data.merge(cbsa_regions, left_on = 'from_npi', right_on = 'NPI', how='left').merge(provider_to_name,\n",
    "                                                                                                 left_on='to_npi',\n",
    "                                                                                                 right_on='NPI')\n",
    "# Drop the duplicate NPI code columns\n",
    "npi_data = npi_data.drop(columns=['NPI_x', 'NPI_y'])"
   ]
  },
  {
   "cell_type": "code",
   "execution_count": 405,
   "metadata": {
    "scrolled": true
   },
   "outputs": [
    {
     "data": {
      "text/html": [
       "<div>\n",
       "<style scoped>\n",
       "    .dataframe tbody tr th:only-of-type {\n",
       "        vertical-align: middle;\n",
       "    }\n",
       "\n",
       "    .dataframe tbody tr th {\n",
       "        vertical-align: top;\n",
       "    }\n",
       "\n",
       "    .dataframe thead th {\n",
       "        text-align: right;\n",
       "    }\n",
       "</style>\n",
       "<table border=\"1\" class=\"dataframe\">\n",
       "  <thead>\n",
       "    <tr style=\"text-align: right;\">\n",
       "      <th></th>\n",
       "      <th>from_npi</th>\n",
       "      <th>to_npi</th>\n",
       "      <th>patient_count</th>\n",
       "      <th>transaction_count</th>\n",
       "      <th>average_day_wait</th>\n",
       "      <th>from_specialty</th>\n",
       "      <th>CBSA</th>\n",
       "      <th>to_organization</th>\n",
       "    </tr>\n",
       "  </thead>\n",
       "  <tbody>\n",
       "    <tr>\n",
       "      <th>0</th>\n",
       "      <td>1033194220</td>\n",
       "      <td>1003000308</td>\n",
       "      <td>62</td>\n",
       "      <td>80</td>\n",
       "      <td>26.175</td>\n",
       "      <td>Radiology, Diagnostic Radiology</td>\n",
       "      <td>12060.0</td>\n",
       "      <td>BUCKHEAD EAR, NOSE AND THROAT</td>\n",
       "    </tr>\n",
       "    <tr>\n",
       "      <th>1</th>\n",
       "      <td>1295734820</td>\n",
       "      <td>1003000308</td>\n",
       "      <td>46</td>\n",
       "      <td>52</td>\n",
       "      <td>49.462</td>\n",
       "      <td>Cardiovascular Disease</td>\n",
       "      <td>12060.0</td>\n",
       "      <td>BUCKHEAD EAR, NOSE AND THROAT</td>\n",
       "    </tr>\n",
       "    <tr>\n",
       "      <th>2</th>\n",
       "      <td>1295734820</td>\n",
       "      <td>1003000308</td>\n",
       "      <td>46</td>\n",
       "      <td>52</td>\n",
       "      <td>49.462</td>\n",
       "      <td>Cardiovascular Disease</td>\n",
       "      <td>12060.0</td>\n",
       "      <td>BUCKHEAD EAR, NOSE AND THROAT</td>\n",
       "    </tr>\n",
       "    <tr>\n",
       "      <th>3</th>\n",
       "      <td>1518973437</td>\n",
       "      <td>1003000308</td>\n",
       "      <td>44</td>\n",
       "      <td>51</td>\n",
       "      <td>33.843</td>\n",
       "      <td>Cardiovascular Disease</td>\n",
       "      <td>12060.0</td>\n",
       "      <td>BUCKHEAD EAR, NOSE AND THROAT</td>\n",
       "    </tr>\n",
       "    <tr>\n",
       "      <th>4</th>\n",
       "      <td>1518973437</td>\n",
       "      <td>1003000308</td>\n",
       "      <td>44</td>\n",
       "      <td>51</td>\n",
       "      <td>33.843</td>\n",
       "      <td>Cardiovascular Disease</td>\n",
       "      <td>12060.0</td>\n",
       "      <td>BUCKHEAD EAR, NOSE AND THROAT</td>\n",
       "    </tr>\n",
       "  </tbody>\n",
       "</table>\n",
       "</div>"
      ],
      "text/plain": [
       "     from_npi      to_npi  patient_count  transaction_count  average_day_wait  \\\n",
       "0  1033194220  1003000308             62                 80            26.175   \n",
       "1  1295734820  1003000308             46                 52            49.462   \n",
       "2  1295734820  1003000308             46                 52            49.462   \n",
       "3  1518973437  1003000308             44                 51            33.843   \n",
       "4  1518973437  1003000308             44                 51            33.843   \n",
       "\n",
       "                    from_specialty     CBSA                to_organization  \n",
       "0  Radiology, Diagnostic Radiology  12060.0  BUCKHEAD EAR, NOSE AND THROAT  \n",
       "1           Cardiovascular Disease  12060.0  BUCKHEAD EAR, NOSE AND THROAT  \n",
       "2           Cardiovascular Disease  12060.0  BUCKHEAD EAR, NOSE AND THROAT  \n",
       "3           Cardiovascular Disease  12060.0  BUCKHEAD EAR, NOSE AND THROAT  \n",
       "4           Cardiovascular Disease  12060.0  BUCKHEAD EAR, NOSE AND THROAT  "
      ]
     },
     "execution_count": 405,
     "metadata": {},
     "output_type": "execute_result"
    }
   ],
   "source": [
    "npi_data.head()"
   ]
  },
  {
   "cell_type": "code",
   "execution_count": 406,
   "metadata": {},
   "outputs": [],
   "source": [
    "# Importing the NPI code and provider last and first name to create a single name column to merge to full dataset above\n",
    "npi_from_name = pd.read_csv('data/NPPES_Data_Dissemination_February_2020/npidata_pfile_20050523-20200209.csv',\n",
    "                      usecols=['NPI','Provider Last Name (Legal Name)', 'Provider First Name'])"
   ]
  },
  {
   "cell_type": "code",
   "execution_count": 407,
   "metadata": {},
   "outputs": [],
   "source": [
    "# Adding a column for provider name by combining provider first and last name columns and then dropping those\n",
    "npi_from_name['from_provider_name'] = npi_from_name['Provider Last Name (Legal Name)'] +', ' + npi_from_name['Provider First Name']\n",
    "\n",
    "npi_from_name = npi_from_name.drop(columns=['Provider Last Name (Legal Name)', 'Provider First Name'])"
   ]
  },
  {
   "cell_type": "code",
   "execution_count": 408,
   "metadata": {},
   "outputs": [],
   "source": [
    "# Merge the full dataset to the from_provider_name data\n",
    "npi_data = npi_data.merge(npi_from_name, left_on = 'from_npi', right_on = 'NPI', how='left')\n",
    "\n",
    "# Drop the duplicate NPI code column after the merge\n",
    "npi_data = npi_data.drop(columns='NPI')"
   ]
  },
  {
   "cell_type": "code",
   "execution_count": 409,
   "metadata": {},
   "outputs": [],
   "source": [
    "# Importing the NPI code and provider practice location state name to merge with full dataset\n",
    "npi_state = pd.read_csv('data/NPPES_Data_Dissemination_February_2020/npidata_pfile_20050523-20200209.csv',\n",
    "                      usecols=['NPI','Provider Business Practice Location Address State Name'])\n",
    "\n",
    "\n",
    "npi_state = npi_state.rename(columns={'Provider Business Practice Location Address State Name':'from_state'})"
   ]
  },
  {
   "cell_type": "code",
   "execution_count": 410,
   "metadata": {},
   "outputs": [],
   "source": [
    "npi_data = npi_data.merge(npi_state, left_on = 'from_npi', right_on = 'NPI', how = 'left')\n",
    "npi_data = npi_data.drop(columns='NPI')"
   ]
  },
  {
   "cell_type": "code",
   "execution_count": 413,
   "metadata": {},
   "outputs": [],
   "source": [
    "# Export the final cleaned data as a csv for uploading\n",
    "npi_data.to_csv('data/cleaned_npi_taxonomy_names_cbsa.csv', index=False)"
   ]
  },
  {
   "cell_type": "code",
   "execution_count": 414,
   "metadata": {},
   "outputs": [],
   "source": [
    "# Export the final cleaned data as a pickle for faster uploading\n",
    "npi_data.to_pickle('data/cleaned_npi_taxonomy_names_cbsa_pickle.csv')"
   ]
  },
  {
   "cell_type": "code",
   "execution_count": 411,
   "metadata": {
    "scrolled": true
   },
   "outputs": [
    {
     "data": {
      "text/html": [
       "<div>\n",
       "<style scoped>\n",
       "    .dataframe tbody tr th:only-of-type {\n",
       "        vertical-align: middle;\n",
       "    }\n",
       "\n",
       "    .dataframe tbody tr th {\n",
       "        vertical-align: top;\n",
       "    }\n",
       "\n",
       "    .dataframe thead th {\n",
       "        text-align: right;\n",
       "    }\n",
       "</style>\n",
       "<table border=\"1\" class=\"dataframe\">\n",
       "  <thead>\n",
       "    <tr style=\"text-align: right;\">\n",
       "      <th></th>\n",
       "      <th>from_npi</th>\n",
       "      <th>to_npi</th>\n",
       "      <th>patient_count</th>\n",
       "      <th>transaction_count</th>\n",
       "      <th>average_day_wait</th>\n",
       "      <th>from_specialty</th>\n",
       "      <th>CBSA</th>\n",
       "      <th>to_organization</th>\n",
       "      <th>from_provider_name</th>\n",
       "      <th>from_state</th>\n",
       "    </tr>\n",
       "  </thead>\n",
       "  <tbody>\n",
       "    <tr>\n",
       "      <th>0</th>\n",
       "      <td>1033194220</td>\n",
       "      <td>1003000308</td>\n",
       "      <td>62</td>\n",
       "      <td>80</td>\n",
       "      <td>26.175</td>\n",
       "      <td>Radiology, Diagnostic Radiology</td>\n",
       "      <td>12060.0</td>\n",
       "      <td>BUCKHEAD EAR, NOSE AND THROAT</td>\n",
       "      <td>JACOBS, LOUIS</td>\n",
       "      <td>GA</td>\n",
       "    </tr>\n",
       "    <tr>\n",
       "      <th>1</th>\n",
       "      <td>1295734820</td>\n",
       "      <td>1003000308</td>\n",
       "      <td>46</td>\n",
       "      <td>52</td>\n",
       "      <td>49.462</td>\n",
       "      <td>Cardiovascular Disease</td>\n",
       "      <td>12060.0</td>\n",
       "      <td>BUCKHEAD EAR, NOSE AND THROAT</td>\n",
       "      <td>ARNOLD, WILLIAM</td>\n",
       "      <td>GA</td>\n",
       "    </tr>\n",
       "    <tr>\n",
       "      <th>2</th>\n",
       "      <td>1295734820</td>\n",
       "      <td>1003000308</td>\n",
       "      <td>46</td>\n",
       "      <td>52</td>\n",
       "      <td>49.462</td>\n",
       "      <td>Cardiovascular Disease</td>\n",
       "      <td>12060.0</td>\n",
       "      <td>BUCKHEAD EAR, NOSE AND THROAT</td>\n",
       "      <td>ARNOLD, WILLIAM</td>\n",
       "      <td>GA</td>\n",
       "    </tr>\n",
       "    <tr>\n",
       "      <th>3</th>\n",
       "      <td>1518973437</td>\n",
       "      <td>1003000308</td>\n",
       "      <td>44</td>\n",
       "      <td>51</td>\n",
       "      <td>33.843</td>\n",
       "      <td>Cardiovascular Disease</td>\n",
       "      <td>12060.0</td>\n",
       "      <td>BUCKHEAD EAR, NOSE AND THROAT</td>\n",
       "      <td>COOK, ARTHUR</td>\n",
       "      <td>GA</td>\n",
       "    </tr>\n",
       "    <tr>\n",
       "      <th>4</th>\n",
       "      <td>1518973437</td>\n",
       "      <td>1003000308</td>\n",
       "      <td>44</td>\n",
       "      <td>51</td>\n",
       "      <td>33.843</td>\n",
       "      <td>Cardiovascular Disease</td>\n",
       "      <td>12060.0</td>\n",
       "      <td>BUCKHEAD EAR, NOSE AND THROAT</td>\n",
       "      <td>COOK, ARTHUR</td>\n",
       "      <td>GA</td>\n",
       "    </tr>\n",
       "  </tbody>\n",
       "</table>\n",
       "</div>"
      ],
      "text/plain": [
       "     from_npi      to_npi  patient_count  transaction_count  average_day_wait  \\\n",
       "0  1033194220  1003000308             62                 80            26.175   \n",
       "1  1295734820  1003000308             46                 52            49.462   \n",
       "2  1295734820  1003000308             46                 52            49.462   \n",
       "3  1518973437  1003000308             44                 51            33.843   \n",
       "4  1518973437  1003000308             44                 51            33.843   \n",
       "\n",
       "                    from_specialty     CBSA                to_organization  \\\n",
       "0  Radiology, Diagnostic Radiology  12060.0  BUCKHEAD EAR, NOSE AND THROAT   \n",
       "1           Cardiovascular Disease  12060.0  BUCKHEAD EAR, NOSE AND THROAT   \n",
       "2           Cardiovascular Disease  12060.0  BUCKHEAD EAR, NOSE AND THROAT   \n",
       "3           Cardiovascular Disease  12060.0  BUCKHEAD EAR, NOSE AND THROAT   \n",
       "4           Cardiovascular Disease  12060.0  BUCKHEAD EAR, NOSE AND THROAT   \n",
       "\n",
       "  from_provider_name from_state  \n",
       "0      JACOBS, LOUIS         GA  \n",
       "1    ARNOLD, WILLIAM         GA  \n",
       "2    ARNOLD, WILLIAM         GA  \n",
       "3       COOK, ARTHUR         GA  \n",
       "4       COOK, ARTHUR         GA  "
      ]
     },
     "execution_count": 411,
     "metadata": {},
     "output_type": "execute_result"
    }
   ],
   "source": [
    "npi_data.head()"
   ]
  },
  {
   "cell_type": "code",
   "execution_count": 412,
   "metadata": {},
   "outputs": [
    {
     "name": "stdout",
     "output_type": "stream",
     "text": [
      "<class 'pandas.core.frame.DataFrame'>\n",
      "Int64Index: 9175634 entries, 0 to 9175633\n",
      "Data columns (total 10 columns):\n",
      "from_npi              int64\n",
      "to_npi                int64\n",
      "patient_count         int64\n",
      "transaction_count     int64\n",
      "average_day_wait      float64\n",
      "from_specialty        object\n",
      "CBSA                  float64\n",
      "to_organization       object\n",
      "from_provider_name    object\n",
      "from_state            object\n",
      "dtypes: float64(2), int64(4), object(4)\n",
      "memory usage: 770.0+ MB\n"
     ]
    }
   ],
   "source": [
    "npi_data.info()"
   ]
  },
  {
   "cell_type": "code",
   "execution_count": null,
   "metadata": {},
   "outputs": [],
   "source": []
  }
 ],
 "metadata": {
  "kernelspec": {
   "display_name": "Python 3",
   "language": "python",
   "name": "python3"
  },
  "language_info": {
   "codemirror_mode": {
    "name": "ipython",
    "version": 3
   },
   "file_extension": ".py",
   "mimetype": "text/x-python",
   "name": "python",
   "nbconvert_exporter": "python",
   "pygments_lexer": "ipython3",
   "version": "3.7.3"
  }
 },
 "nbformat": 4,
 "nbformat_minor": 2
}
